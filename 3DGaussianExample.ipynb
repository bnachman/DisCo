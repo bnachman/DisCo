{
 "cells": [
  {
   "cell_type": "code",
   "execution_count": 1,
   "metadata": {},
   "outputs": [],
   "source": [
    "import numpy as np\n",
    "import matplotlib.pyplot as plt\n",
    "from matplotlib import gridspec"
   ]
  },
  {
   "cell_type": "code",
   "execution_count": 2,
   "metadata": {},
   "outputs": [
    {
     "name": "stderr",
     "output_type": "stream",
     "text": [
      "Using TensorFlow backend.\n",
      "/home/bpnachman/anaconda3/envs/myenv/lib/python3.6/site-packages/tensorflow/python/framework/dtypes.py:523: FutureWarning: Passing (type, 1) or '1type' as a synonym of type is deprecated; in a future version of numpy, it will be understood as (type, (1,)) / '(1,)type'.\n",
      "  _np_qint8 = np.dtype([(\"qint8\", np.int8, 1)])\n",
      "/home/bpnachman/anaconda3/envs/myenv/lib/python3.6/site-packages/tensorflow/python/framework/dtypes.py:524: FutureWarning: Passing (type, 1) or '1type' as a synonym of type is deprecated; in a future version of numpy, it will be understood as (type, (1,)) / '(1,)type'.\n",
      "  _np_quint8 = np.dtype([(\"quint8\", np.uint8, 1)])\n",
      "/home/bpnachman/anaconda3/envs/myenv/lib/python3.6/site-packages/tensorflow/python/framework/dtypes.py:525: FutureWarning: Passing (type, 1) or '1type' as a synonym of type is deprecated; in a future version of numpy, it will be understood as (type, (1,)) / '(1,)type'.\n",
      "  _np_qint16 = np.dtype([(\"qint16\", np.int16, 1)])\n",
      "/home/bpnachman/anaconda3/envs/myenv/lib/python3.6/site-packages/tensorflow/python/framework/dtypes.py:526: FutureWarning: Passing (type, 1) or '1type' as a synonym of type is deprecated; in a future version of numpy, it will be understood as (type, (1,)) / '(1,)type'.\n",
      "  _np_quint16 = np.dtype([(\"quint16\", np.uint16, 1)])\n",
      "/home/bpnachman/anaconda3/envs/myenv/lib/python3.6/site-packages/tensorflow/python/framework/dtypes.py:527: FutureWarning: Passing (type, 1) or '1type' as a synonym of type is deprecated; in a future version of numpy, it will be understood as (type, (1,)) / '(1,)type'.\n",
      "  _np_qint32 = np.dtype([(\"qint32\", np.int32, 1)])\n",
      "/home/bpnachman/anaconda3/envs/myenv/lib/python3.6/site-packages/tensorflow/python/framework/dtypes.py:532: FutureWarning: Passing (type, 1) or '1type' as a synonym of type is deprecated; in a future version of numpy, it will be understood as (type, (1,)) / '(1,)type'.\n",
      "  np_resource = np.dtype([(\"resource\", np.ubyte, 1)])\n"
     ]
    }
   ],
   "source": [
    "from keras import backend as K\n",
    "import keras.layers as layers\n",
    "from keras.models import Model\n",
    "from keras import Sequential\n",
    "from keras.layers import Lambda, Dense, Flatten\n",
    "from sklearn.metrics import roc_curve, roc_auc_score\n",
    "from keras.losses import binary_crossentropy\n",
    "import tensorflow as tf\n",
    "from sklearn.model_selection import train_test_split\n",
    "from keras import layers\n",
    "from keras.callbacks import ModelCheckpoint"
   ]
  },
  {
   "cell_type": "code",
   "execution_count": 3,
   "metadata": {},
   "outputs": [],
   "source": [
    "N = 2000000\n",
    "rho = 0.8\n",
    "\n",
    "Z0 = np.random.normal(0.,1.5,N)\n",
    "Z1 = np.random.normal(0.,1.5,N)\n",
    "Z2 = np.random.normal(0.,1.5,N)\n",
    "X0 = Z1*rho + Z0*(1.-rho**2)**0.5\n",
    "X1 = Z1\n",
    "X2 = Z2\n",
    "\n",
    "background_x = np.array(tuple(zip(X0, X1, X2)))\n",
    "background_y = np.zeros(len(background_x))\n",
    "\n",
    "Z0 = np.random.normal(2.5,1.5,N)\n",
    "Z1 = np.random.normal(2.5,1.5,N)\n",
    "Z2 = np.random.normal(2,1.5,N)\n",
    "signal_x = np.array(tuple(zip(Z0, Z1, Z2)))\n",
    "signal_y = np.ones(len(signal_x))\n",
    "\n",
    "X = np.concatenate([background_x,signal_x])\n",
    "Y = np.concatenate([background_y,signal_y])\n",
    "\n",
    "X_train, X_val, Y_train, Y_val = train_test_split(X, Y, test_size=0.15)"
   ]
  },
  {
   "cell_type": "code",
   "execution_count": 4,
   "metadata": {},
   "outputs": [
    {
     "data": {
      "text/plain": [
       "<matplotlib.collections.PathCollection at 0x7fa3b60c7d30>"
      ]
     },
     "execution_count": 4,
     "metadata": {},
     "output_type": "execute_result"
    },
    {
     "data": {
      "image/png": "[encoded data removed]",
      "text/plain": [
       "<Figure size 432x288 with 1 Axes>"
      ]
     },
     "metadata": {
      "needs_background": "light"
     },
     "output_type": "display_data"
    }
   ],
   "source": [
    "plt.scatter(background_x[:,0][0:1000],background_x[:,1][0:1000])\n",
    "plt.scatter(signal_x[:,0][0:1000],signal_x[:,1][0:1000])"
   ]
  },
  {
   "cell_type": "code",
   "execution_count": 5,
   "metadata": {},
   "outputs": [
    {
     "name": "stdout",
     "output_type": "stream",
     "text": [
      "Train on 3400000 samples, validate on 600000 samples\n",
      "Epoch 1/20\n",
      "3400000/3400000 [==============================] - 5s 1us/step - loss: 0.3747 - acc: 0.8342 - val_loss: 0.3264 - val_acc: 0.8570\n",
      "Epoch 2/20\n",
      "3400000/3400000 [==============================] - 2s 1us/step - loss: 0.3272 - acc: 0.8568 - val_loss: 0.3259 - val_acc: 0.8572\n",
      "Epoch 3/20\n",
      "3400000/3400000 [==============================] - 2s 1us/step - loss: 0.3271 - acc: 0.8568 - val_loss: 0.3259 - val_acc: 0.8571\n",
      "Epoch 4/20\n",
      "3400000/3400000 [==============================] - 2s 1us/step - loss: 0.3271 - acc: 0.8568 - val_loss: 0.3259 - val_acc: 0.8572\n",
      "Epoch 5/20\n",
      "3400000/3400000 [==============================] - 2s 1us/step - loss: 0.3271 - acc: 0.8568 - val_loss: 0.3259 - val_acc: 0.8573\n",
      "Epoch 6/20\n",
      "3400000/3400000 [==============================] - 2s 1us/step - loss: 0.3270 - acc: 0.8569 - val_loss: 0.3261 - val_acc: 0.8572\n",
      "Epoch 7/20\n",
      "3400000/3400000 [==============================] - 2s 1us/step - loss: 0.3271 - acc: 0.8568 - val_loss: 0.3260 - val_acc: 0.8572\n",
      "Epoch 8/20\n",
      "3400000/3400000 [==============================] - 2s 1us/step - loss: 0.3270 - acc: 0.8569 - val_loss: 0.3259 - val_acc: 0.8573\n",
      "Epoch 9/20\n",
      "3400000/3400000 [==============================] - 2s 1us/step - loss: 0.3271 - acc: 0.8569 - val_loss: 0.3259 - val_acc: 0.8572\n",
      "Epoch 10/20\n",
      "3400000/3400000 [==============================] - 2s 1us/step - loss: 0.3270 - acc: 0.8569 - val_loss: 0.3261 - val_acc: 0.8571\n",
      "Epoch 11/20\n",
      "3400000/3400000 [==============================] - 2s 1us/step - loss: 0.3271 - acc: 0.8568 - val_loss: 0.3261 - val_acc: 0.8572\n",
      "Epoch 12/20\n",
      "3400000/3400000 [==============================] - 2s 1us/step - loss: 0.3270 - acc: 0.8568 - val_loss: 0.3261 - val_acc: 0.8572\n",
      "Epoch 13/20\n",
      "3400000/3400000 [==============================] - 2s 1us/step - loss: 0.3270 - acc: 0.8569 - val_loss: 0.3260 - val_acc: 0.8571\n",
      "Epoch 14/20\n",
      "3400000/3400000 [==============================] - 2s 1us/step - loss: 0.3270 - acc: 0.8568 - val_loss: 0.3259 - val_acc: 0.8572\n",
      "Epoch 15/20\n",
      "3400000/3400000 [==============================] - 2s 1us/step - loss: 0.3270 - acc: 0.8569 - val_loss: 0.3260 - val_acc: 0.8573\n",
      "Epoch 16/20\n",
      "3400000/3400000 [==============================] - 2s 1us/step - loss: 0.3271 - acc: 0.8569 - val_loss: 0.3258 - val_acc: 0.8573\n",
      "Epoch 17/20\n",
      "3400000/3400000 [==============================] - 2s 1us/step - loss: 0.3270 - acc: 0.8568 - val_loss: 0.3260 - val_acc: 0.8572\n",
      "Epoch 18/20\n",
      "3400000/3400000 [==============================] - 2s 1us/step - loss: 0.3271 - acc: 0.8568 - val_loss: 0.3260 - val_acc: 0.8572\n",
      "Epoch 19/20\n",
      "3400000/3400000 [==============================] - 2s 1us/step - loss: 0.3270 - acc: 0.8568 - val_loss: 0.3259 - val_acc: 0.8572\n",
      "Epoch 20/20\n",
      "3400000/3400000 [==============================] - 2s 1us/step - loss: 0.3271 - acc: 0.8569 - val_loss: 0.3258 - val_acc: 0.8573\n"
     ]
    }
   ],
   "source": [
    "model_baseline = Sequential()\n",
    "model_baseline.add(Dense(128, activation='relu',input_shape =(2,))) \n",
    "model_baseline.add(Dense(128, activation='relu'))\n",
    "model_baseline.add(Dense(128, activation='relu'))\n",
    "model_baseline.add(Dense(1, activation='sigmoid'))\n",
    "model_baseline.compile(loss=\"binary_crossentropy\", optimizer='adam', metrics=['accuracy'])\n",
    "hist_model_baseline = model_baseline.fit(X_train[:,1:3], Y_train, epochs=20, batch_size=int(0.01*len(X_train)),validation_data=(X_val[:,1:3], Y_val))"
   ]
  },
  {
   "cell_type": "code",
   "execution_count": 6,
   "metadata": {},
   "outputs": [
    {
     "data": {
      "text/plain": [
       "[<matplotlib.lines.Line2D at 0x7fa32a3e7128>]"
      ]
     },
     "execution_count": 6,
     "metadata": {},
     "output_type": "execute_result"
    },
    {
     "data": {
      "image/png": "[encoded data removed]",
      "text/plain": [
       "<Figure size 432x288 with 1 Axes>"
      ]
     },
     "metadata": {
      "needs_background": "light"
     },
     "output_type": "display_data"
    }
   ],
   "source": [
    "plt.plot(hist_model_baseline.history['loss'])\n",
    "plt.plot(hist_model_baseline.history['val_loss'])"
   ]
  },
  {
   "cell_type": "code",
   "execution_count": 7,
   "metadata": {},
   "outputs": [],
   "source": [
    "preds_baseline = model_baseline.predict(X_val[:,1:3])"
   ]
  },
  {
   "cell_type": "code",
   "execution_count": 8,
   "metadata": {},
   "outputs": [
    {
     "data": {
      "text/plain": [
       "<matplotlib.collections.PathCollection at 0x7fa33e9a2940>"
      ]
     },
     "execution_count": 8,
     "metadata": {},
     "output_type": "execute_result"
    },
    {
     "data": {
      "image/png": "[encoded data removed]",
      "text/plain": [
       "<Figure size 432x288 with 1 Axes>"
      ]
     },
     "metadata": {
      "needs_background": "light"
     },
     "output_type": "display_data"
    }
   ],
   "source": [
    "plt.scatter(X_val[:,0][0:10000],preds_baseline[0:10000])"
   ]
  },
  {
   "cell_type": "code",
   "execution_count": 9,
   "metadata": {},
   "outputs": [],
   "source": [
    "def DisCo_np(X,Y):\n",
    "    ajk = np.abs(np.reshape(np.repeat(X,len(X)),[len(X),len(X)]) - np.transpose(X))\n",
    "    bjk = np.abs(np.reshape(np.repeat(Y,len(Y)),[len(Y),len(Y)]) - np.transpose(Y))\n",
    "\n",
    "    Ajk = ajk - np.mean(ajk,axis=0)[None, :] - np.mean(ajk,axis=1)[:, None] + np.mean(ajk)\n",
    "    Bjk = bjk - np.mean(bjk,axis=0)[None, :] - np.mean(bjk,axis=1)[:, None] + np.mean(bjk)\n",
    "\n",
    "    dcor = np.sum(Ajk*Bjk) / np.sqrt(np.sum(Ajk*Ajk)*np.sum(Bjk*Bjk))\n",
    "    return dcor"
   ]
  },
  {
   "cell_type": "code",
   "execution_count": 10,
   "metadata": {},
   "outputs": [
    {
     "data": {
      "text/plain": [
       "0.39302018785637616"
      ]
     },
     "execution_count": 10,
     "metadata": {},
     "output_type": "execute_result"
    }
   ],
   "source": [
    "DisCo_np(X_val[:,0][0:10000],preds_baseline[0:10000])"
   ]
  },
  {
   "cell_type": "code",
   "execution_count": 11,
   "metadata": {},
   "outputs": [],
   "source": [
    "def DisCo(y_true, y_pred, x_in, alpha = 0.):\n",
    "    #alpha determines the amount of decorrelation; 0 means no decorrelation.\n",
    "    #Note that the decorrelating feature is also used for learning.\n",
    "    \n",
    "    X_in = tf.gather(x_in, [0], axis=1) #decorrelate with the first element of the input\n",
    "    Y_in = y_pred\n",
    "\n",
    "    #Only require decorrelation for the background.\n",
    "    mymaskX = tf.where(y_true[:,0]<1,K.ones_like(X_in),K.zeros_like(X_in))\n",
    "    mymaskY = tf.where(y_true[:,0]<1,K.ones_like(Y_in),K.zeros_like(Y_in))\n",
    "    X = tf.boolean_mask(X_in, mymaskX)\n",
    "    Y = tf.boolean_mask(Y_in, mymaskY)\n",
    "    \n",
    "    LX = K.shape(X)[0]\n",
    "    LY = K.shape(Y)[0]\n",
    "    \n",
    "    X=K.reshape(X,shape=(LX,1))\n",
    "    Y=K.reshape(Y,shape=(LY,1))    \n",
    "    \n",
    "    ajk = K.abs(K.reshape(K.repeat(X,LX),shape=(LX,LX)) - K.transpose(X))\n",
    "    bjk = K.abs(K.reshape(K.repeat(Y,LY),shape=(LY,LY)) - K.transpose(Y))\n",
    "\n",
    "    Ajk = ajk - K.mean(ajk,axis=0)[None, :] - K.mean(ajk,axis=1)[:, None] + K.mean(ajk)\n",
    "    Bjk = bjk - K.mean(bjk,axis=0)[None, :] - K.mean(bjk,axis=1)[:, None] + K.mean(bjk)\n",
    "\n",
    "    dcor = K.sum(Ajk*Bjk) / K.sqrt(K.sum(Ajk*Ajk)*K.sum(Bjk*Bjk))    \n",
    "    \n",
    "    return binary_crossentropy(y_true,y_pred) + alpha*dcor"
   ]
  },
  {
   "cell_type": "code",
   "execution_count": 12,
   "metadata": {},
   "outputs": [],
   "source": [
    "def redacted_set(x):\n",
    "    #Returns everything except the last element.  This is the decorrelation target (\"Mass\")\n",
    "    return x[:,1:3]"
   ]
  },
  {
   "cell_type": "code",
   "execution_count": 13,
   "metadata": {},
   "outputs": [
    {
     "name": "stderr",
     "output_type": "stream",
     "text": [
      "/home/bpnachman/anaconda3/envs/myenv/lib/python3.6/site-packages/tensorflow/python/ops/gradients_impl.py:112: UserWarning: Converting sparse IndexedSlices to a dense Tensor of unknown shape. This may consume a large amount of memory.\n",
      "  \"Converting sparse IndexedSlices to a dense Tensor of unknown shape. \"\n"
     ]
    },
    {
     "name": "stdout",
     "output_type": "stream",
     "text": [
      "Train on 3400000 samples, validate on 600000 samples\n",
      "Epoch 1/20\n",
      "3400000/3400000 [==============================] - 15s 4us/step - loss: 5.1591 - acc: 0.6183 - val_loss: 0.8995 - val_acc: 0.6262\n",
      "Epoch 2/20\n",
      "3400000/3400000 [==============================] - 15s 4us/step - loss: 0.8486 - acc: 0.6373 - val_loss: 0.8855 - val_acc: 0.6556\n",
      "Epoch 3/20\n",
      "3400000/3400000 [==============================] - 15s 4us/step - loss: 0.8834 - acc: 0.6724 - val_loss: 0.7995 - val_acc: 0.6888\n",
      "Epoch 4/20\n",
      "3400000/3400000 [==============================] - 15s 4us/step - loss: 0.8127 - acc: 0.7006 - val_loss: 0.8411 - val_acc: 0.7133\n",
      "Epoch 5/20\n",
      "3400000/3400000 [==============================] - 15s 4us/step - loss: 0.7936 - acc: 0.7196 - val_loss: 0.7811 - val_acc: 0.7279\n",
      "Epoch 6/20\n",
      "3400000/3400000 [==============================] - 15s 4us/step - loss: 0.8261 - acc: 0.7304 - val_loss: 0.8031 - val_acc: 0.7340\n",
      "Epoch 7/20\n",
      "3400000/3400000 [==============================] - 15s 4us/step - loss: 0.8021 - acc: 0.7354 - val_loss: 0.8055 - val_acc: 0.7405\n",
      "Epoch 8/20\n",
      "3400000/3400000 [==============================] - 15s 4us/step - loss: 0.7956 - acc: 0.7383 - val_loss: 0.8432 - val_acc: 0.7414\n",
      "Epoch 9/20\n",
      "3400000/3400000 [==============================] - 15s 4us/step - loss: 0.7889 - acc: 0.7408 - val_loss: 0.7905 - val_acc: 0.7427\n",
      "Epoch 10/20\n",
      "3400000/3400000 [==============================] - 15s 4us/step - loss: 0.7782 - acc: 0.7422 - val_loss: 0.7414 - val_acc: 0.7454\n",
      "Epoch 11/20\n",
      "3400000/3400000 [==============================] - 15s 4us/step - loss: 0.7712 - acc: 0.7440 - val_loss: 0.7485 - val_acc: 0.7440\n",
      "Epoch 12/20\n",
      "3400000/3400000 [==============================] - 15s 4us/step - loss: 0.8062 - acc: 0.7449 - val_loss: 0.8927 - val_acc: 0.7508\n",
      "Epoch 13/20\n",
      "3400000/3400000 [==============================] - 15s 4us/step - loss: 0.7652 - acc: 0.7460 - val_loss: 0.7541 - val_acc: 0.7463\n",
      "Epoch 14/20\n",
      "3400000/3400000 [==============================] - 15s 4us/step - loss: 0.7793 - acc: 0.7465 - val_loss: 0.7814 - val_acc: 0.7512\n",
      "Epoch 15/20\n",
      "3400000/3400000 [==============================] - 15s 4us/step - loss: 0.7536 - acc: 0.7474 - val_loss: 0.8011 - val_acc: 0.7451\n",
      "Epoch 16/20\n",
      "3400000/3400000 [==============================] - 15s 4us/step - loss: 0.7499 - acc: 0.7477 - val_loss: 0.7739 - val_acc: 0.7489\n",
      "Epoch 17/20\n",
      "3400000/3400000 [==============================] - 15s 4us/step - loss: 0.7439 - acc: 0.7488 - val_loss: 0.7021 - val_acc: 0.7492\n",
      "Epoch 18/20\n",
      "3400000/3400000 [==============================] - 15s 4us/step - loss: 0.7449 - acc: 0.7486 - val_loss: 1.0773 - val_acc: 0.7420\n",
      "Epoch 19/20\n",
      "3400000/3400000 [==============================] - 15s 4us/step - loss: 0.7408 - acc: 0.7486 - val_loss: 0.7096 - val_acc: 0.7484\n",
      "Epoch 20/20\n",
      "3400000/3400000 [==============================] - 15s 4us/step - loss: 0.7324 - acc: 0.7489 - val_loss: 0.7569 - val_acc: 0.7531\n"
     ]
    }
   ],
   "source": [
    "model_DisCo = Sequential()\n",
    "model_DisCo.add(Lambda(redacted_set,input_shape =(3,)))\n",
    "model_DisCo.add(Dense(128, activation='relu')) \n",
    "model_DisCo.add(Dense(128, activation='relu'))\n",
    "model_DisCo.add(Dense(128, activation='relu'))\n",
    "model_DisCo.add(Dense(1, activation='sigmoid'))\n",
    "model_DisCo.compile(loss=lambda y_true, y_pred: DisCo(y_true, y_pred, model_DisCo.input, alpha = 1000), optimizer='adam', metrics=['accuracy'])\n",
    "hist_model_DisCo = model_DisCo.fit(X_train, Y_train, epochs=20, batch_size=int(0.01*len(X_train)),validation_data=(X_val, Y_val))"
   ]
  },
  {
   "cell_type": "code",
   "execution_count": 14,
   "metadata": {},
   "outputs": [
    {
     "data": {
      "text/plain": [
       "[<matplotlib.lines.Line2D at 0x7fa3327b8ba8>]"
      ]
     },
     "execution_count": 14,
     "metadata": {},
     "output_type": "execute_result"
    },
    {
     "data": {
      "image/png": "[encoded data removed]",
      "text/plain": [
       "<Figure size 432x288 with 1 Axes>"
      ]
     },
     "metadata": {
      "needs_background": "light"
     },
     "output_type": "display_data"
    }
   ],
   "source": [
    "plt.plot(hist_model_DisCo.history['loss'][1:-1])\n",
    "plt.plot(hist_model_DisCo.history['val_loss'][1:-1])"
   ]
  },
  {
   "cell_type": "code",
   "execution_count": 15,
   "metadata": {},
   "outputs": [],
   "source": [
    "preds_DisCo = model_DisCo.predict(X_val)"
   ]
  },
  {
   "cell_type": "code",
   "execution_count": 16,
   "metadata": {},
   "outputs": [
    {
     "data": {
      "image/png": "[encoded data removed]",
      "text/plain": [
       "<Figure size 576x432 with 1 Axes>"
      ]
     },
     "metadata": {
      "needs_background": "light"
     },
     "output_type": "display_data"
    }
   ],
   "source": [
    "fig = plt.figure(figsize=(8, 6))\n",
    "gs = gridspec.GridSpec(1, 1) \n",
    "ax0 = plt.subplot(gs[0])\n",
    "ax0.yaxis.set_ticks_position('both')\n",
    "ax0.xaxis.set_ticks_position('both')\n",
    "ax0.tick_params(direction=\"in\",which=\"both\")\n",
    "plt.xticks(fontsize=20)\n",
    "plt.yticks(fontsize=20)\n",
    "ax0.minorticks_on()\n",
    "\n",
    "plt.scatter(X_val[Y_val==0][:,0][0:1000],preds_DisCo[Y_val==0][0:1000],label=\"Single DisCo\")\n",
    "plt.scatter(X_val[Y_val==0][:,0][0:1000],preds_baseline[Y_val==0][0:1000],label=\"Basline\")\n",
    "plt.xlabel(\"X\",fontsize=20)\n",
    "plt.ylabel(\"f(Y,Z)\",fontsize=20)\n",
    "plt.legend(frameon=True,fontsize=20)\n",
    "plt.savefig(\"ToyNN_versus_X_singleDisCo.pdf\",bbox_inches='tight')"
   ]
  },
  {
   "cell_type": "code",
   "execution_count": 17,
   "metadata": {},
   "outputs": [
    {
     "data": {
      "image/png": "[encoded data removed]",
      "text/plain": [
       "<Figure size 576x432 with 1 Axes>"
      ]
     },
     "metadata": {
      "needs_background": "light"
     },
     "output_type": "display_data"
    }
   ],
   "source": [
    "fig = plt.figure(figsize=(8, 6))\n",
    "gs = gridspec.GridSpec(1, 1) \n",
    "ax0 = plt.subplot(gs[0])\n",
    "ax0.yaxis.set_ticks_position('both')\n",
    "ax0.xaxis.set_ticks_position('both')\n",
    "ax0.tick_params(direction=\"in\",which=\"both\")\n",
    "plt.xticks(fontsize=20)\n",
    "plt.yticks(fontsize=20)\n",
    "ax0.minorticks_on()\n",
    "\n",
    "plt.scatter(X_val[Y_val==0][:,1][0:1000],preds_DisCo[Y_val==0][0:1000],label=\"Single DisCo\")\n",
    "plt.scatter(X_val[Y_val==0][:,1][0:1000],preds_baseline[Y_val==0][0:1000],label=\"Basline\")\n",
    "plt.xlabel(\"Y\",fontsize=20)\n",
    "plt.ylabel(\"f(Y,Z)\",fontsize=20)\n",
    "plt.legend(frameon=True,fontsize=20)\n",
    "plt.savefig(\"ToyNN_versus_Y_singleDisCo.pdf\",bbox_inches='tight')"
   ]
  },
  {
   "cell_type": "code",
   "execution_count": 18,
   "metadata": {},
   "outputs": [
    {
     "data": {
      "image/png": "[encoded data removed]",
      "text/plain": [
       "<Figure size 576x432 with 1 Axes>"
      ]
     },
     "metadata": {
      "needs_background": "light"
     },
     "output_type": "display_data"
    }
   ],
   "source": [
    "fig = plt.figure(figsize=(8, 6))\n",
    "gs = gridspec.GridSpec(1, 1) \n",
    "ax0 = plt.subplot(gs[0])\n",
    "ax0.yaxis.set_ticks_position('both')\n",
    "ax0.xaxis.set_ticks_position('both')\n",
    "ax0.tick_params(direction=\"in\",which=\"both\")\n",
    "plt.xticks(fontsize=20)\n",
    "plt.yticks(fontsize=20)\n",
    "ax0.minorticks_on()\n",
    "\n",
    "plt.scatter(X_val[Y_val==0][:,2][0:1000],preds_DisCo[Y_val==0][0:1000],label=\"Single DisCo\")\n",
    "plt.scatter(X_val[Y_val==0][:,2][0:1000],preds_baseline[Y_val==0][0:1000],label=\"Basline\")\n",
    "plt.xlabel(\"Z\",fontsize=20)\n",
    "plt.ylabel(\"f(Y,Z)\",fontsize=20)\n",
    "plt.legend(frameon=True,fontsize=20)\n",
    "plt.savefig(\"ToyNN_versus_Z_singleDisCo.pdf\",bbox_inches='tight')"
   ]
  },
  {
   "cell_type": "code",
   "execution_count": 19,
   "metadata": {},
   "outputs": [
    {
     "data": {
      "text/plain": [
       "0.0004561135466331006"
      ]
     },
     "execution_count": 19,
     "metadata": {},
     "output_type": "execute_result"
    }
   ],
   "source": [
    "DisCo_np(X_val[Y_val==0][:,0][0:10000],preds_DisCo[Y_val==0][0:10000])"
   ]
  },
  {
   "cell_type": "code",
   "execution_count": 20,
   "metadata": {},
   "outputs": [],
   "source": [
    "def DoubleDisCo(y_true, y_pred, alpha = 0.):\n",
    "    #alpha determines the amount of decorrelation; 0 means no decorrelation.\n",
    "    \n",
    "    X_in = y_pred[:,0]\n",
    "    Y_in = y_pred[:,1]\n",
    "\n",
    "    #Only require decorrelation for the background.\n",
    "    mymaskX = tf.where(y_true[:,0]<1,K.ones_like(X_in),K.zeros_like(X_in))\n",
    "    mymaskY = tf.where(y_true[:,0]<1,K.ones_like(Y_in),K.zeros_like(Y_in))\n",
    "    X = tf.boolean_mask(X_in, mymaskX)\n",
    "    Y = tf.boolean_mask(Y_in, mymaskY)\n",
    "    \n",
    "    LX = K.shape(X)[0]\n",
    "    LY = K.shape(Y)[0]\n",
    "    \n",
    "    X=K.reshape(X,shape=(LX,1))\n",
    "    Y=K.reshape(Y,shape=(LY,1))    \n",
    "    \n",
    "    ajk = K.abs(K.reshape(K.repeat(X,LX),shape=(LX,LX)) - K.transpose(X))\n",
    "    bjk = K.abs(K.reshape(K.repeat(Y,LY),shape=(LY,LY)) - K.transpose(Y))\n",
    "\n",
    "    Ajk = ajk - K.mean(ajk,axis=0)[None, :] - K.mean(ajk,axis=1)[:, None] + K.mean(ajk)\n",
    "    Bjk = bjk - K.mean(bjk,axis=0)[None, :] - K.mean(bjk,axis=1)[:, None] + K.mean(bjk)\n",
    "\n",
    "    dcor = K.sum(Ajk*Bjk) / K.sqrt(K.sum(Ajk*Ajk)*K.sum(Bjk*Bjk))    \n",
    "    \n",
    "    return binary_crossentropy(y_true[:,0],y_pred[:,0]) + binary_crossentropy(y_true[:,0],y_pred[:,1]) + alpha*dcor"
   ]
  },
  {
   "cell_type": "code",
   "execution_count": 21,
   "metadata": {},
   "outputs": [],
   "source": [
    "model_DoubleDisCo = Sequential()\n",
    "model_DoubleDisCo.add(Dense(128, activation='relu',input_shape =(3,))) \n",
    "model_DoubleDisCo.add(Dense(128, activation='relu')) \n",
    "#model_DoubleDisCo.add(layers.Dropout(0.25))\n",
    "model_DoubleDisCo.add(Dense(128, activation='relu'))\n",
    "#model_DoubleDisCo.add(layers.Dropout(0.25))\n",
    "model_DoubleDisCo.add(Dense(2, activation='sigmoid'))\n",
    "model_DoubleDisCo.compile(loss=lambda y_true, y_pred: DoubleDisCo(y_true, y_pred, alpha = 1000.), optimizer='adam', metrics=['accuracy'])"
   ]
  },
  {
   "cell_type": "code",
   "execution_count": null,
   "metadata": {},
   "outputs": [
    {
     "name": "stderr",
     "output_type": "stream",
     "text": [
      "/home/bpnachman/anaconda3/envs/myenv/lib/python3.6/site-packages/tensorflow/python/ops/gradients_impl.py:112: UserWarning: Converting sparse IndexedSlices to a dense Tensor of unknown shape. This may consume a large amount of memory.\n",
      "  \"Converting sparse IndexedSlices to a dense Tensor of unknown shape. \"\n"
     ]
    },
    {
     "name": "stdout",
     "output_type": "stream",
     "text": [
      "Train on 3400000 samples, validate on 600000 samples\n",
      "Epoch 1/200\n",
      "3400000/3400000 [==============================] - 20s 6us/step - loss: 8.6992 - acc: 0.7806 - val_loss: 2.1286 - val_acc: 0.7922\n",
      "Epoch 2/200\n",
      "3400000/3400000 [==============================] - 20s 6us/step - loss: 1.9164 - acc: 0.7811 - val_loss: 2.0213 - val_acc: 0.7758\n",
      "Epoch 3/200\n",
      "3400000/3400000 [==============================] - 20s 6us/step - loss: 1.8562 - acc: 0.7647 - val_loss: 1.7585 - val_acc: 0.7611\n",
      "Epoch 4/200\n",
      "3400000/3400000 [==============================] - 20s 6us/step - loss: 1.8761 - acc: 0.7563 - val_loss: 3.2022 - val_acc: 0.7511\n",
      "Epoch 5/200\n",
      "3400000/3400000 [==============================] - 20s 6us/step - loss: 2.2233 - acc: 0.7375 - val_loss: 1.7127 - val_acc: 0.7264\n",
      "Epoch 6/200\n",
      "3400000/3400000 [==============================] - 20s 6us/step - loss: 1.8524 - acc: 0.7163 - val_loss: 1.7252 - val_acc: 0.7061\n",
      "Epoch 7/200\n",
      "3400000/3400000 [==============================] - 20s 6us/step - loss: 1.8219 - acc: 0.6909 - val_loss: 2.6571 - val_acc: 0.6762\n",
      "Epoch 8/200\n",
      "3400000/3400000 [==============================] - 20s 6us/step - loss: 2.2511 - acc: 0.6675 - val_loss: 2.5082 - val_acc: 0.6610\n",
      "Epoch 9/200\n",
      "3400000/3400000 [==============================] - 20s 6us/step - loss: 1.8359 - acc: 0.6526 - val_loss: 1.7537 - val_acc: 0.6406\n",
      "Epoch 10/200\n",
      "3400000/3400000 [==============================] - 20s 6us/step - loss: 1.8608 - acc: 0.6271 - val_loss: 2.4724 - val_acc: 0.6139\n",
      "Epoch 11/200\n",
      "3400000/3400000 [==============================] - 20s 6us/step - loss: 1.9227 - acc: 0.6074 - val_loss: 1.7527 - val_acc: 0.6074\n",
      "Epoch 12/200\n",
      "3400000/3400000 [==============================] - 20s 6us/step - loss: 2.1034 - acc: 0.6089 - val_loss: 1.6270 - val_acc: 0.6126\n",
      "Epoch 13/200\n",
      "3400000/3400000 [==============================] - 20s 6us/step - loss: 1.8885 - acc: 0.5976 - val_loss: 2.1579 - val_acc: 0.5911\n",
      "Epoch 14/200\n",
      "3400000/3400000 [==============================] - 20s 6us/step - loss: 1.8232 - acc: 0.5758 - val_loss: 1.6535 - val_acc: 0.5668\n",
      "Epoch 15/200\n",
      "3400000/3400000 [==============================] - 20s 6us/step - loss: 1.9601 - acc: 0.5587 - val_loss: 1.6399 - val_acc: 0.5520\n",
      "Epoch 16/200\n",
      "3400000/3400000 [==============================] - 20s 6us/step - loss: 1.8473 - acc: 0.5492 - val_loss: 1.6320 - val_acc: 0.5469\n",
      "Epoch 17/200\n",
      "3400000/3400000 [==============================] - 20s 6us/step - loss: 1.8128 - acc: 0.5437 - val_loss: 1.8944 - val_acc: 0.5381\n",
      "Epoch 18/200\n",
      "3400000/3400000 [==============================] - 20s 6us/step - loss: 1.7403 - acc: 0.5348 - val_loss: 1.6709 - val_acc: 0.5366\n",
      "Epoch 19/200\n",
      "3400000/3400000 [==============================] - 20s 6us/step - loss: 1.8801 - acc: 0.5321 - val_loss: 1.7229 - val_acc: 0.5320\n",
      "Epoch 20/200\n",
      "3400000/3400000 [==============================] - 20s 6us/step - loss: 2.1580 - acc: 0.5386 - val_loss: 1.6069 - val_acc: 0.5470\n",
      "Epoch 21/200\n",
      "3400000/3400000 [==============================] - 20s 6us/step - loss: 1.7835 - acc: 0.5391 - val_loss: 1.8078 - val_acc: 0.5347\n",
      "Epoch 22/200\n",
      "3400000/3400000 [==============================] - 20s 6us/step - loss: 1.8548 - acc: 0.5257 - val_loss: 1.5655 - val_acc: 0.5348\n",
      "Epoch 23/200\n",
      "3400000/3400000 [==============================] - 20s 6us/step - loss: 1.7230 - acc: 0.5264 - val_loss: 1.6735 - val_acc: 0.5299\n",
      "Epoch 24/200\n",
      "3400000/3400000 [==============================] - 20s 6us/step - loss: 1.8200 - acc: 0.5244 - val_loss: 1.9724 - val_acc: 0.5299\n",
      "Epoch 25/200\n",
      "3400000/3400000 [==============================] - 20s 6us/step - loss: 1.7824 - acc: 0.5273 - val_loss: 1.9065 - val_acc: 0.5259\n",
      "Epoch 26/200\n",
      "3400000/3400000 [==============================] - 20s 6us/step - loss: 1.6743 - acc: 0.5222 - val_loss: 1.8211 - val_acc: 0.5350\n",
      "Epoch 27/200\n",
      "3400000/3400000 [==============================] - 20s 6us/step - loss: 1.6094 - acc: 0.5285 - val_loss: 1.5254 - val_acc: 0.5341\n",
      "Epoch 28/200\n",
      "3400000/3400000 [==============================] - 20s 6us/step - loss: 1.8367 - acc: 0.5291 - val_loss: 2.1299 - val_acc: 0.5321\n",
      "Epoch 29/200\n",
      "3400000/3400000 [==============================] - 20s 6us/step - loss: 1.7041 - acc: 0.5311 - val_loss: 1.6312 - val_acc: 0.5379\n",
      "Epoch 30/200\n",
      "3400000/3400000 [==============================] - 20s 6us/step - loss: 1.9195 - acc: 0.5332 - val_loss: 2.7286 - val_acc: 0.5331\n",
      "Epoch 31/200\n",
      "3400000/3400000 [==============================] - 20s 6us/step - loss: 1.8839 - acc: 0.5227 - val_loss: 2.0644 - val_acc: 0.5303\n",
      "Epoch 32/200\n",
      "3400000/3400000 [==============================] - 20s 6us/step - loss: 1.7789 - acc: 0.5367 - val_loss: 1.5168 - val_acc: 0.5450\n",
      "Epoch 33/200\n",
      "3400000/3400000 [==============================] - 20s 6us/step - loss: 1.7088 - acc: 0.5351 - val_loss: 1.4629 - val_acc: 0.5375\n",
      "Epoch 34/200\n",
      "3400000/3400000 [==============================] - 20s 6us/step - loss: 1.7430 - acc: 0.5365 - val_loss: 1.5308 - val_acc: 0.5431\n",
      "Epoch 35/200\n",
      "3400000/3400000 [==============================] - 20s 6us/step - loss: 1.5232 - acc: 0.5425 - val_loss: 1.4042 - val_acc: 0.5383\n",
      "Epoch 36/200\n",
      "3400000/3400000 [==============================] - 20s 6us/step - loss: 1.5610 - acc: 0.5310 - val_loss: 1.5432 - val_acc: 0.5293\n",
      "Epoch 37/200\n",
      "3400000/3400000 [==============================] - 20s 6us/step - loss: 1.6597 - acc: 0.5291 - val_loss: 1.3625 - val_acc: 0.5399\n",
      "Epoch 38/200\n",
      "3400000/3400000 [==============================] - 20s 6us/step - loss: 1.6218 - acc: 0.5327 - val_loss: 1.3414 - val_acc: 0.5359\n",
      "Epoch 39/200\n",
      "3400000/3400000 [==============================] - 20s 6us/step - loss: 1.6358 - acc: 0.5320 - val_loss: 1.3320 - val_acc: 0.5367\n",
      "Epoch 40/200\n",
      "3400000/3400000 [==============================] - 20s 6us/step - loss: 1.4521 - acc: 0.5322 - val_loss: 1.5288 - val_acc: 0.5412\n",
      "Epoch 41/200\n",
      "3400000/3400000 [==============================] - 20s 6us/step - loss: 1.5032 - acc: 0.5383 - val_loss: 2.3410 - val_acc: 0.5399\n",
      "Epoch 42/200\n",
      "3400000/3400000 [==============================] - 20s 6us/step - loss: 1.4650 - acc: 0.5413 - val_loss: 1.4548 - val_acc: 0.5493\n",
      "Epoch 43/200\n",
      "3400000/3400000 [==============================] - 20s 6us/step - loss: 1.3801 - acc: 0.5495 - val_loss: 1.3567 - val_acc: 0.5491\n",
      "Epoch 44/200\n",
      "3400000/3400000 [==============================] - 20s 6us/step - loss: 1.4244 - acc: 0.5439 - val_loss: 1.5756 - val_acc: 0.5508\n",
      "Epoch 45/200\n",
      "3400000/3400000 [==============================] - 20s 6us/step - loss: 1.5651 - acc: 0.5362 - val_loss: 2.7668 - val_acc: 0.5378\n",
      "Epoch 46/200\n",
      "3400000/3400000 [==============================] - 20s 6us/step - loss: 1.4379 - acc: 0.5453 - val_loss: 1.6889 - val_acc: 0.5494\n",
      "Epoch 47/200\n",
      "3400000/3400000 [==============================] - 20s 6us/step - loss: 1.3139 - acc: 0.5449 - val_loss: 1.2333 - val_acc: 0.5532\n",
      "Epoch 48/200\n",
      "3400000/3400000 [==============================] - 20s 6us/step - loss: 1.3004 - acc: 0.5475 - val_loss: 1.1658 - val_acc: 0.5562\n",
      "Epoch 49/200\n",
      "3400000/3400000 [==============================] - 20s 6us/step - loss: 1.2860 - acc: 0.5539 - val_loss: 1.1290 - val_acc: 0.5537\n",
      "Epoch 50/200\n",
      "3400000/3400000 [==============================] - 19s 6us/step - loss: 1.3077 - acc: 0.5537 - val_loss: 1.1691 - val_acc: 0.5499\n",
      "Epoch 51/200\n",
      "3400000/3400000 [==============================] - 20s 6us/step - loss: 1.4104 - acc: 0.5512 - val_loss: 1.3152 - val_acc: 0.5534\n",
      "Epoch 52/200\n",
      "3400000/3400000 [==============================] - 20s 6us/step - loss: 1.2753 - acc: 0.5501 - val_loss: 1.2689 - val_acc: 0.5546\n",
      "Epoch 53/200\n",
      "3400000/3400000 [==============================] - 20s 6us/step - loss: 1.2490 - acc: 0.5554 - val_loss: 1.1588 - val_acc: 0.5568\n",
      "Epoch 54/200\n",
      "3400000/3400000 [==============================] - 20s 6us/step - loss: 1.2476 - acc: 0.5497 - val_loss: 1.0751 - val_acc: 0.5501\n",
      "Epoch 55/200\n",
      "3400000/3400000 [==============================] - 20s 6us/step - loss: 1.3715 - acc: 0.5474 - val_loss: 1.1722 - val_acc: 0.5492\n",
      "Epoch 56/200\n",
      "3400000/3400000 [==============================] - 20s 6us/step - loss: 1.2677 - acc: 0.5545 - val_loss: 1.0734 - val_acc: 0.5553\n",
      "Epoch 57/200\n",
      "3400000/3400000 [==============================] - 20s 6us/step - loss: 1.2378 - acc: 0.5526 - val_loss: 1.4159 - val_acc: 0.5575\n"
     ]
    },
    {
     "name": "stdout",
     "output_type": "stream",
     "text": [
      "Epoch 58/200\n",
      "3400000/3400000 [==============================] - 20s 6us/step - loss: 1.1863 - acc: 0.5580 - val_loss: 1.0503 - val_acc: 0.5637\n",
      "Epoch 59/200\n",
      "3400000/3400000 [==============================] - 20s 6us/step - loss: 1.2677 - acc: 0.5550 - val_loss: 1.1173 - val_acc: 0.5501\n",
      "Epoch 60/200\n",
      "3400000/3400000 [==============================] - 20s 6us/step - loss: 1.1907 - acc: 0.5530 - val_loss: 1.0656 - val_acc: 0.5606\n",
      "Epoch 61/200\n",
      "3400000/3400000 [==============================] - 20s 6us/step - loss: 1.2715 - acc: 0.5581 - val_loss: 1.1929 - val_acc: 0.5609\n",
      "Epoch 62/200\n",
      "3400000/3400000 [==============================] - 20s 6us/step - loss: 1.4315 - acc: 0.5558 - val_loss: 1.0415 - val_acc: 0.5610\n",
      "Epoch 63/200\n",
      "3400000/3400000 [==============================] - 20s 6us/step - loss: 1.1869 - acc: 0.5557 - val_loss: 1.0351 - val_acc: 0.5571\n",
      "Epoch 64/200\n",
      "3400000/3400000 [==============================] - 20s 6us/step - loss: 1.1860 - acc: 0.5594 - val_loss: 1.0792 - val_acc: 0.5625\n",
      "Epoch 65/200\n",
      "3400000/3400000 [==============================] - 20s 6us/step - loss: 1.2510 - acc: 0.5576 - val_loss: 1.6863 - val_acc: 0.5665\n",
      "Epoch 66/200\n",
      "3400000/3400000 [==============================] - 20s 6us/step - loss: 1.3138 - acc: 0.5557 - val_loss: 1.0071 - val_acc: 0.5508\n",
      "Epoch 67/200\n",
      "3400000/3400000 [==============================] - 20s 6us/step - loss: 1.1897 - acc: 0.5557 - val_loss: 1.0341 - val_acc: 0.5630\n",
      "Epoch 68/200\n",
      "3400000/3400000 [==============================] - 20s 6us/step - loss: 1.2870 - acc: 0.5600 - val_loss: 1.0556 - val_acc: 0.5588\n",
      "Epoch 69/200\n",
      "3400000/3400000 [==============================] - 20s 6us/step - loss: 1.1551 - acc: 0.5534 - val_loss: 1.1756 - val_acc: 0.5540\n",
      "Epoch 70/200\n",
      "3400000/3400000 [==============================] - 20s 6us/step - loss: 1.2147 - acc: 0.5634 - val_loss: 1.0270 - val_acc: 0.5645\n",
      "Epoch 71/200\n",
      "3400000/3400000 [==============================] - 20s 6us/step - loss: 1.1795 - acc: 0.5598 - val_loss: 1.3753 - val_acc: 0.5609\n",
      "Epoch 72/200\n",
      "3400000/3400000 [==============================] - 20s 6us/step - loss: 1.1064 - acc: 0.5644 - val_loss: 1.0277 - val_acc: 0.5686\n",
      "Epoch 73/200\n",
      "3400000/3400000 [==============================] - 20s 6us/step - loss: 1.1954 - acc: 0.5660 - val_loss: 1.3459 - val_acc: 0.5694\n",
      "Epoch 74/200\n",
      "3400000/3400000 [==============================] - 20s 6us/step - loss: 1.1489 - acc: 0.5592 - val_loss: 1.2002 - val_acc: 0.5587\n",
      "Epoch 75/200\n",
      "3400000/3400000 [==============================] - 20s 6us/step - loss: 1.2524 - acc: 0.5582 - val_loss: 1.2767 - val_acc: 0.5617\n",
      "Epoch 76/200\n",
      "3400000/3400000 [==============================] - 20s 6us/step - loss: 1.1040 - acc: 0.5584 - val_loss: 0.9738 - val_acc: 0.5588\n",
      "Epoch 77/200\n",
      "3400000/3400000 [==============================] - 20s 6us/step - loss: 1.1020 - acc: 0.5626 - val_loss: 0.9536 - val_acc: 0.5666\n",
      "Epoch 78/200\n",
      "3400000/3400000 [==============================] - 20s 6us/step - loss: 1.0842 - acc: 0.5679 - val_loss: 0.9532 - val_acc: 0.5675\n",
      "Epoch 79/200\n",
      "3400000/3400000 [==============================] - 20s 6us/step - loss: 1.1107 - acc: 0.5694 - val_loss: 1.1262 - val_acc: 0.5595\n",
      "Epoch 80/200\n",
      "3400000/3400000 [==============================] - 20s 6us/step - loss: 1.1263 - acc: 0.5603 - val_loss: 0.9417 - val_acc: 0.5715\n",
      "Epoch 81/200\n",
      "3400000/3400000 [==============================] - 20s 6us/step - loss: 1.1871 - acc: 0.5638 - val_loss: 1.0172 - val_acc: 0.5564\n",
      "Epoch 82/200\n",
      "3400000/3400000 [==============================] - 20s 6us/step - loss: 1.1189 - acc: 0.5651 - val_loss: 1.0168 - val_acc: 0.5795\n",
      "Epoch 83/200\n",
      "3400000/3400000 [==============================] - 20s 6us/step - loss: 1.1195 - acc: 0.5709 - val_loss: 0.9404 - val_acc: 0.5701\n",
      "Epoch 84/200\n",
      "3400000/3400000 [==============================] - 20s 6us/step - loss: 1.0855 - acc: 0.5691 - val_loss: 1.1667 - val_acc: 0.5797\n",
      "Epoch 85/200\n",
      "3400000/3400000 [==============================] - 20s 6us/step - loss: 1.1048 - acc: 0.5744 - val_loss: 1.2113 - val_acc: 0.5779\n",
      "Epoch 86/200\n",
      "3400000/3400000 [==============================] - 20s 6us/step - loss: 1.1039 - acc: 0.5734 - val_loss: 1.0115 - val_acc: 0.5644\n",
      "Epoch 87/200\n",
      "3400000/3400000 [==============================] - 20s 6us/step - loss: 1.0618 - acc: 0.5604 - val_loss: 1.1027 - val_acc: 0.5630\n",
      "Epoch 88/200\n",
      "3400000/3400000 [==============================] - 20s 6us/step - loss: 1.1104 - acc: 0.5629 - val_loss: 1.0109 - val_acc: 0.5685\n",
      "Epoch 89/200\n",
      "3400000/3400000 [==============================] - 20s 6us/step - loss: 1.1348 - acc: 0.5708 - val_loss: 0.9786 - val_acc: 0.5739\n",
      "Epoch 90/200\n",
      "3400000/3400000 [==============================] - 20s 6us/step - loss: 1.1348 - acc: 0.5712 - val_loss: 0.9688 - val_acc: 0.5765\n",
      "Epoch 91/200\n",
      "3400000/3400000 [==============================] - 20s 6us/step - loss: 1.0561 - acc: 0.5724 - val_loss: 1.1011 - val_acc: 0.5745\n",
      "Epoch 92/200\n",
      "1938000/3400000 [================>.............] - ETA: 7s - loss: 1.1618 - acc: 0.5753"
     ]
    }
   ],
   "source": [
    "checkpoint = ModelCheckpoint(\"/data0/bpnachman/weights/saved-model-{epoch:02d}_v2.hdf5\", save_best_only=False, mode='auto', period=1,save_weights_only=True)\n",
    "hist_model_DoubleDisCo = model_DoubleDisCo.fit(X_train, Y_train, epochs=200, batch_size=int(0.01*len(X_train)),validation_data=(X_val, Y_val), callbacks=[checkpoint])"
   ]
  },
  {
   "cell_type": "code",
   "execution_count": null,
   "metadata": {},
   "outputs": [],
   "source": [
    "plt.plot(hist_model_DoubleDisCo.history['val_loss'][1:-1])\n",
    "plt.plot(hist_model_DoubleDisCo.history['loss'][1:-1])"
   ]
  },
  {
   "cell_type": "code",
   "execution_count": null,
   "metadata": {},
   "outputs": [],
   "source": [
    "preds_DD = model_DoubleDisCo.predict(X_val)\n",
    "fpr_DD0, tpr_DD0, _ = roc_curve(Y_val, preds_DD[:,0])\n",
    "fpr_DD1, tpr_DD1, _ = roc_curve(Y_val, preds_DD[:,1])"
   ]
  },
  {
   "cell_type": "code",
   "execution_count": null,
   "metadata": {},
   "outputs": [],
   "source": [
    "figure, axes = plt.subplots(figsize=(18, 12),nrows=2, ncols=3)\n",
    "figure.tight_layout(pad=4.0)\n",
    "\n",
    "ax0 = plt.subplot(231)\n",
    "plt.scatter(X_val[Y_val==0][:,0][0:1000],preds_DD[Y_val==0][0:1000][:,0])\n",
    "plt.xlabel(\"X\",fontsize=20)\n",
    "plt.ylabel(\"f(X,Y,Z)\",fontsize=20)\n",
    "ax0.yaxis.set_ticks_position('both')\n",
    "ax0.xaxis.set_ticks_position('both')\n",
    "ax0.tick_params(direction=\"in\",which=\"both\")\n",
    "plt.xticks(fontsize=20)\n",
    "plt.yticks(fontsize=20)\n",
    "ax0.minorticks_on()\n",
    "\n",
    "ax0 = plt.subplot(232)\n",
    "plt.scatter(X_val[Y_val==0][:,1][0:1000],preds_DD[Y_val==0][0:1000][:,0])\n",
    "plt.xlabel(\"Y\",fontsize=20)\n",
    "plt.ylabel(\"f(X,Y,Z)\",fontsize=20)\n",
    "ax0.yaxis.set_ticks_position('both')\n",
    "ax0.xaxis.set_ticks_position('both')\n",
    "ax0.tick_params(direction=\"in\",which=\"both\")\n",
    "plt.xticks(fontsize=20)\n",
    "plt.yticks(fontsize=20)\n",
    "ax0.minorticks_on()\n",
    "\n",
    "ax0 = plt.subplot(233)\n",
    "plt.scatter(X_val[Y_val==0][:,2][0:1000],preds_DD[Y_val==0][0:1000][:,0])\n",
    "plt.xlabel(\"Z\",fontsize=20)\n",
    "plt.ylabel(\"f(X,Y,Z)\",fontsize=20)\n",
    "ax0.yaxis.set_ticks_position('both')\n",
    "ax0.xaxis.set_ticks_position('both')\n",
    "ax0.tick_params(direction=\"in\",which=\"both\")\n",
    "plt.xticks(fontsize=20)\n",
    "plt.yticks(fontsize=20)\n",
    "ax0.minorticks_on()\n",
    "\n",
    "ax0 = plt.subplot(234)\n",
    "plt.scatter(X_val[Y_val==0][:,0][0:1000],preds_DD[Y_val==0][0:1000][:,1])\n",
    "plt.xlabel(\"X\",fontsize=20)\n",
    "plt.ylabel(\"g(X,Y,Z)\",fontsize=20)\n",
    "ax0.yaxis.set_ticks_position('both')\n",
    "ax0.xaxis.set_ticks_position('both')\n",
    "ax0.tick_params(direction=\"in\",which=\"both\")\n",
    "plt.xticks(fontsize=20)\n",
    "plt.yticks(fontsize=20)\n",
    "ax0.minorticks_on()\n",
    "\n",
    "ax0 = plt.subplot(235)\n",
    "plt.scatter(X_val[Y_val==0][:,1][0:1000],preds_DD[Y_val==0][0:1000][:,1])\n",
    "plt.xlabel(\"Y\",fontsize=20)\n",
    "plt.ylabel(\"g(X,Y,Z)\",fontsize=20)\n",
    "ax0.yaxis.set_ticks_position('both')\n",
    "ax0.xaxis.set_ticks_position('both')\n",
    "ax0.tick_params(direction=\"in\",which=\"both\")\n",
    "plt.xticks(fontsize=20)\n",
    "plt.yticks(fontsize=20)\n",
    "ax0.minorticks_on()\n",
    "\n",
    "ax0 = plt.subplot(236)\n",
    "plt.scatter(X_val[Y_val==0][:,2][0:1000],preds_DD[Y_val==0][0:1000][:,1])\n",
    "plt.xlabel(\"Z\",fontsize=20)\n",
    "plt.ylabel(\"g(X,Y,Z)\",fontsize=20)\n",
    "ax0.yaxis.set_ticks_position('both')\n",
    "ax0.xaxis.set_ticks_position('both')\n",
    "ax0.tick_params(direction=\"in\",which=\"both\")\n",
    "plt.xticks(fontsize=20)\n",
    "plt.yticks(fontsize=20)\n",
    "ax0.minorticks_on()\n",
    "\n",
    "plt.savefig(\"ToyNN_DDplots.pdf\",bbox_inches='tight')"
   ]
  },
  {
   "cell_type": "code",
   "execution_count": null,
   "metadata": {},
   "outputs": [],
   "source": [
    "preds_DDs = {}"
   ]
  },
  {
   "cell_type": "code",
   "execution_count": null,
   "metadata": {},
   "outputs": [],
   "source": [
    "for i in range(1,201):\n",
    "    print(i)\n",
    "    if (i < 10):\n",
    "        model_DoubleDisCo.load_weights(\"/data0/bpnachman/weights/saved-model-0\"+str(i)+\"_v2.hdf5\")\n",
    "    else:\n",
    "        model_DoubleDisCo.load_weights(\"/data0/bpnachman/weights/saved-model-\"+str(i)+\"_v2.hdf5\")\n",
    "        #model_DoubleDisCo.load_weights(\"weights/saved-model-\"+str(i)+\".hdf5\")\n",
    "    preds_DDs[i] = model_DoubleDisCo.predict(X_val,batch_size=int(0.01*len(X_val)))\n",
    "    pass"
   ]
  },
  {
   "cell_type": "code",
   "execution_count": null,
   "metadata": {
    "scrolled": false
   },
   "outputs": [],
   "source": [
    "'''\n",
    "#for i in preds_DDs:\n",
    "for i in range(1,201):\n",
    "    figure, axes = plt.subplots(figsize=(18, 12),nrows=2, ncols=3)\n",
    "    figure.tight_layout(pad=4.0)\n",
    "\n",
    "    ax0 = plt.subplot(231)\n",
    "    plt.scatter(X_val[Y_val==0][:,0][0:1000],preds_DDs[i][Y_val==0][0:1000][:,0])\n",
    "    plt.xlabel(\"X\",fontsize=20)\n",
    "    plt.ylabel(\"f(X,Y,Z), \"+str(i),fontsize=20)\n",
    "    ax0.yaxis.set_ticks_position('both')\n",
    "    ax0.xaxis.set_ticks_position('both')\n",
    "    ax0.tick_params(direction=\"in\",which=\"both\")\n",
    "    plt.xticks(fontsize=20)\n",
    "    plt.yticks(fontsize=20)\n",
    "    ax0.minorticks_on()\n",
    "\n",
    "    ax0 = plt.subplot(232)\n",
    "    plt.scatter(X_val[Y_val==0][:,1][0:1000],preds_DDs[i][Y_val==0][0:1000][:,0])\n",
    "    plt.xlabel(\"Y\",fontsize=20)\n",
    "    plt.ylabel(\"f(X,Y,Z), \"+str(i),fontsize=20)\n",
    "    ax0.yaxis.set_ticks_position('both')\n",
    "    ax0.xaxis.set_ticks_position('both')\n",
    "    ax0.tick_params(direction=\"in\",which=\"both\")\n",
    "    plt.xticks(fontsize=20)\n",
    "    plt.yticks(fontsize=20)\n",
    "    ax0.minorticks_on()\n",
    "\n",
    "    ax0 = plt.subplot(233)\n",
    "    plt.scatter(X_val[Y_val==0][:,2][0:1000],preds_DDs[i][Y_val==0][0:1000][:,0])\n",
    "    plt.xlabel(\"Z\",fontsize=20)\n",
    "    plt.ylabel(\"f(X,Y,Z), \"+str(i),fontsize=20)\n",
    "    ax0.yaxis.set_ticks_position('both')\n",
    "    ax0.xaxis.set_ticks_position('both')\n",
    "    ax0.tick_params(direction=\"in\",which=\"both\")\n",
    "    plt.xticks(fontsize=20)\n",
    "    plt.yticks(fontsize=20)\n",
    "    ax0.minorticks_on()\n",
    "\n",
    "    ax0 = plt.subplot(234)\n",
    "    plt.scatter(X_val[Y_val==0][:,0][0:1000],preds_DDs[i][Y_val==0][0:1000][:,1])\n",
    "    plt.xlabel(\"X\",fontsize=20)\n",
    "    plt.ylabel(\"g(X,Y,Z), \"+str(i),fontsize=20)\n",
    "    ax0.yaxis.set_ticks_position('both')\n",
    "    ax0.xaxis.set_ticks_position('both')\n",
    "    ax0.tick_params(direction=\"in\",which=\"both\")\n",
    "    plt.xticks(fontsize=20)\n",
    "    plt.yticks(fontsize=20)\n",
    "    ax0.minorticks_on()\n",
    "\n",
    "    ax0 = plt.subplot(235)\n",
    "    plt.scatter(X_val[Y_val==0][:,1][0:1000],preds_DDs[i][Y_val==0][0:1000][:,1])\n",
    "    plt.xlabel(\"Y\",fontsize=20)\n",
    "    plt.ylabel(\"g(X,Y,Z), \"+str(i),fontsize=20)\n",
    "    ax0.yaxis.set_ticks_position('both')\n",
    "    ax0.xaxis.set_ticks_position('both')\n",
    "    ax0.tick_params(direction=\"in\",which=\"both\")\n",
    "    plt.xticks(fontsize=20)\n",
    "    plt.yticks(fontsize=20)\n",
    "    ax0.minorticks_on()\n",
    "\n",
    "    ax0 = plt.subplot(236)\n",
    "    plt.scatter(X_val[Y_val==0][:,2][0:1000],preds_DDs[i][Y_val==0][0:1000][:,1])\n",
    "    plt.xlabel(\"Z\",fontsize=20)\n",
    "    plt.ylabel(\"g(X,Y,Z), \"+str(i),fontsize=20)\n",
    "    ax0.yaxis.set_ticks_position('both')\n",
    "    ax0.xaxis.set_ticks_position('both')\n",
    "    ax0.tick_params(direction=\"in\",which=\"both\")\n",
    "    plt.xticks(fontsize=20)\n",
    "    plt.yticks(fontsize=20)\n",
    "    ax0.minorticks_on()\n",
    "'''"
   ]
  },
  {
   "cell_type": "code",
   "execution_count": null,
   "metadata": {},
   "outputs": [],
   "source": [
    "epos = []\n",
    "disco12 = []\n",
    "disco13 = []\n",
    "disco23 = []\n",
    "disco1f = []\n",
    "disco2f = []\n",
    "disco3f = []\n",
    "disco1g = []\n",
    "disco2g = []\n",
    "disco3g = []\n",
    "discofg = []\n",
    "for i in preds_DDs:\n",
    "    print(i)\n",
    "    disco12+=[DisCo_np(X_val[Y_val==0][:,0][0:1000],X_val[Y_val==0][:,1][0:1000])]\n",
    "    disco13+=[DisCo_np(X_val[Y_val==0][:,0][0:1000],X_val[Y_val==0][:,2][0:1000])]\n",
    "    disco23+=[DisCo_np(X_val[Y_val==0][:,1][0:1000],X_val[Y_val==0][:,2][0:1000])]\n",
    "    disco1f+=[DisCo_np(X_val[Y_val==0][:,0][0:1000],preds_DDs[i][Y_val==0][0:1000][:,0])]\n",
    "    disco2f+=[DisCo_np(X_val[Y_val==0][:,1][0:1000],preds_DDs[i][Y_val==0][0:1000][:,0])]\n",
    "    disco3f+=[DisCo_np(X_val[Y_val==0][:,2][0:1000],preds_DDs[i][Y_val==0][0:1000][:,0])]\n",
    "    disco1g+=[DisCo_np(X_val[Y_val==0][:,0][0:1000],preds_DDs[i][Y_val==0][0:1000][:,1])]\n",
    "    disco2g+=[DisCo_np(X_val[Y_val==0][:,1][0:1000],preds_DDs[i][Y_val==0][0:1000][:,1])]\n",
    "    disco3g+=[DisCo_np(X_val[Y_val==0][:,2][0:1000],preds_DDs[i][Y_val==0][0:1000][:,1])] \n",
    "    discofg+=[DisCo_np(preds_DDs[i][Y_val==0][0:1000][:,0],preds_DDs[i][Y_val==0][0:1000][:,1])] \n",
    "    pass"
   ]
  },
  {
   "cell_type": "code",
   "execution_count": null,
   "metadata": {},
   "outputs": [],
   "source": [
    "fig = plt.figure(figsize=(12, 6))\n",
    "plt.plot(range(len(disco12)),disco1f,label=\"1f\",ls=\":\",color=\"black\")\n",
    "plt.plot(range(len(disco12)),disco2f,label=\"2f\",ls=\":\",color=\"red\")\n",
    "plt.plot(range(len(disco12)),disco3f,label=\"3f\",ls=\":\",color=\"blue\")\n",
    "plt.plot(range(len(disco12)),disco1g,label=\"1g\",color=\"black\")\n",
    "plt.plot(range(len(disco12)),disco2g,label=\"2g\",color=\"red\")\n",
    "plt.plot(range(len(disco12)),disco3g,label=\"3g\",color=\"blue\")\n",
    "#plt.plot(range(len(disco12)),discofg,label=\"fg\")\n",
    "plt.legend(frameon=False)\n",
    "plt.ylabel(\"DisCo\")\n",
    "plt.xlabel(\"Epoch\")\n",
    "plt.ylim([0,0.5])"
   ]
  },
  {
   "cell_type": "code",
   "execution_count": null,
   "metadata": {},
   "outputs": [],
   "source": [
    "fig = plt.figure(figsize=(12, 6))\n",
    "plt.plot(range(len(disco12)),discofg,label=\"fg\")\n",
    "plt.ylabel(\"DisCo\")\n",
    "plt.xlabel(\"Epoch\")\n",
    "#plt.plot(hist_model_DoubleDisCo.history['val_loss'][1:-1])\n",
    "#plt.plot(hist_model_DoubleDisCo.history['loss'][1:-1])"
   ]
  },
  {
   "cell_type": "code",
   "execution_count": null,
   "metadata": {},
   "outputs": [],
   "source": [
    "plt.scatter(preds_DD[Y_val==0][0:1000][:,0],preds_DD[Y_val==0][0:1000][:,1])"
   ]
  },
  {
   "cell_type": "code",
   "execution_count": null,
   "metadata": {},
   "outputs": [],
   "source": [
    "DisCo_np(preds_DD[Y_val==0][:,0][0:10000],preds_DD[Y_val==0][:,1][0:10000])"
   ]
  },
  {
   "cell_type": "code",
   "execution_count": null,
   "metadata": {},
   "outputs": [],
   "source": [
    "model_all = Sequential()\n",
    "model_all.add(Dense(128, activation='relu',input_shape =(3,))) \n",
    "model_all.add(Dense(128, activation='relu'))\n",
    "model_all.add(Dense(128, activation='relu'))\n",
    "model_all.add(Dense(1, activation='sigmoid'))\n",
    "model_all.compile(loss=\"binary_crossentropy\", optimizer='adam', metrics=['accuracy'])\n",
    "hist_model_all = model_all.fit(X_train, Y_train, epochs=10, batch_size=int(0.01*len(X_train)),validation_data=(X_val, Y_val))"
   ]
  },
  {
   "cell_type": "code",
   "execution_count": null,
   "metadata": {},
   "outputs": [],
   "source": [
    "preds_A = model_all.predict(X_val)\n",
    "fpr_A, tpr_A, _ = roc_curve(Y_val, preds_A)"
   ]
  },
  {
   "cell_type": "code",
   "execution_count": null,
   "metadata": {},
   "outputs": [],
   "source": [
    "model_M = Sequential()\n",
    "model_M.add(Dense(128, activation='relu',input_shape =(1,))) \n",
    "model_M.add(Dense(128, activation='relu'))\n",
    "model_M.add(Dense(128, activation='relu'))\n",
    "model_M.add(Dense(1, activation='sigmoid'))\n",
    "model_M.compile(loss=\"binary_crossentropy\", optimizer='adam', metrics=['accuracy'])\n",
    "hist_model_M = model_M.fit(X_train[:,0], Y_train, epochs=10, batch_size=int(0.01*len(X_train)),validation_data=(X_val[:,0], Y_val))"
   ]
  },
  {
   "cell_type": "code",
   "execution_count": null,
   "metadata": {},
   "outputs": [],
   "source": [
    "preds_M = model_M.predict(X_val[:,0])"
   ]
  },
  {
   "cell_type": "code",
   "execution_count": null,
   "metadata": {},
   "outputs": [],
   "source": [
    "preds_D = preds_DisCo"
   ]
  },
  {
   "cell_type": "code",
   "execution_count": null,
   "metadata": {},
   "outputs": [],
   "source": [
    "fpr_D, tpr_D, _ = roc_curve(Y_val, preds_DisCo[:,0])\n",
    "fpr_M, tpr_M, _ = roc_curve(Y_val, preds_M)"
   ]
  },
  {
   "cell_type": "code",
   "execution_count": null,
   "metadata": {},
   "outputs": [],
   "source": [
    "plt.plot(tpr_DD0,1-fpr_DD0,label=\"Double DisCo 1\")\n",
    "plt.plot(tpr_DD1,1-fpr_DD1,label=\"Double DisCo 2\")\n",
    "plt.plot(tpr_D,1-fpr_D,label=\"DisCo 1\")\n",
    "plt.plot(tpr_M,1-fpr_M,label=\"Mass\")\n",
    "plt.plot(tpr_DD0,1-tpr_DD0,label=\"Random\")\n",
    "plt.legend(frameon=False)"
   ]
  },
  {
   "cell_type": "code",
   "execution_count": null,
   "metadata": {},
   "outputs": [],
   "source": [
    "plt.plot(tpr_DD0,1./fpr_DD0,label=\"Double DisCo 1\")\n",
    "plt.plot(tpr_DD1,1./fpr_DD1,label=\"Double DisCo 2\")\n",
    "plt.plot(tpr_D,1./fpr_D,label=\"DisCo 1\")\n",
    "plt.plot(tpr_M,1./fpr_M,label=\"Mass\")\n",
    "plt.plot(tpr_DD0,1./tpr_DD0,label=\"Random\")\n",
    "plt.yscale(\"log\")\n",
    "plt.legend(frameon=False)"
   ]
  },
  {
   "cell_type": "code",
   "execution_count": null,
   "metadata": {},
   "outputs": [],
   "source": [
    "#Let's make a list of cut values.\n",
    "Nscan = 10\n",
    "ll = int(1.*len(preds_DD[:,0])/Nscan)\n",
    "scanvals = [np.sort(preds_DD[:,0])[ll*i] for i in range(Nscan)]\n",
    "\n",
    "ll2 = int(1.*len(preds_DD[:,1])/Nscan)\n",
    "scanvals2 = [np.sort(preds_DD[:,1])[ll*i] for i in range(Nscan)]\n",
    "\n",
    "ll_D = int(1.*len(preds_D[:,0])/Nscan)\n",
    "scanvals_D = [np.sort(preds_D[:,0])[ll*i] for i in range(Nscan)]\n",
    "\n",
    "ll_M = int(1.*len(preds_M[:,0])/Nscan)\n",
    "scanvals_M = [np.sort(preds_M[:,0])[ll*i] for i in range(Nscan)]"
   ]
  },
  {
   "cell_type": "code",
   "execution_count": null,
   "metadata": {},
   "outputs": [],
   "source": [
    "tprs = []\n",
    "fprs = []\n",
    "ABCD_S = []\n",
    "ABCD_closure = []\n",
    "for ix in range(len(scanvals)):\n",
    "    x = scanvals[ix]\n",
    "    print(x)\n",
    "    for iy in range(len(scanvals2)):\n",
    "        y = scanvals2[iy]\n",
    "        S = sum((preds_DD[Y_val==1][:,0]>x)*(preds_DD[Y_val==1][:,1]>y))/len(preds_DD[Y_val==1])\n",
    "        B = sum((preds_DD[Y_val==0][:,0]>x)*(preds_DD[Y_val==0][:,1]>y))/len(preds_DD[Y_val==0])\n",
    "        \n",
    "        tprs+=[S]\n",
    "        fprs+=[B]\n",
    "        \n",
    "        B11 = sum((preds_DD[Y_val==0][:,0]>x)*(preds_DD[Y_val==0][:,1]>y))\n",
    "        B01 = sum((preds_DD[Y_val==0][:,0]<=x)*(preds_DD[Y_val==0][:,1]>y))\n",
    "        B10 = sum((preds_DD[Y_val==0][:,0]>x)*(preds_DD[Y_val==0][:,1]<=y))\n",
    "        B00 = sum((preds_DD[Y_val==0][:,0]<=x)*(preds_DD[Y_val==0][:,1]<=y))\n",
    "        \n",
    "        ABCD_S += [S]\n",
    "        ABCD_closure += [(B01*B10/B00)/B11]\n",
    "        \n",
    "        pass\n",
    "    pass"
   ]
  },
  {
   "cell_type": "code",
   "execution_count": null,
   "metadata": {},
   "outputs": [],
   "source": [
    "tprs2 = []\n",
    "fprs2 = []\n",
    "ABCD2_S = []\n",
    "ABCD2_closure = []\n",
    "for ix in range(len(scanvals_D)):\n",
    "    x = scanvals_D[ix]\n",
    "    print(x)\n",
    "    for iy in range(len(scanvals_M)):\n",
    "        y = scanvals_M[iy]\n",
    "        S = sum((preds_D[Y_val==1]>x)*(preds_M[Y_val==1]>y))/len(preds_D[Y_val==1])\n",
    "        B = sum((preds_D[Y_val==0]>x)*(preds_M[Y_val==0]>y))/len(preds_D[Y_val==0])\n",
    "        tprs2+=[S]\n",
    "        fprs2+=[B]\n",
    "\n",
    "        B11 = sum((preds_D[Y_val==0]>x)*(preds_M[Y_val==0]>y))\n",
    "        B01 = sum((preds_D[Y_val==0]<=x)*(preds_M[Y_val==0]>y))\n",
    "        B10 = sum((preds_D[Y_val==0]>x)*(preds_M[Y_val==0]<=y))\n",
    "        B00 = sum((preds_D[Y_val==0]<=x)*(preds_M[Y_val==0]<=y))\n",
    "        \n",
    "        ABCD2_S += [S]\n",
    "        ABCD2_closure += [(B01*B10/B00)/B11]\n",
    "\n",
    "        pass\n",
    "    pass"
   ]
  },
  {
   "cell_type": "code",
   "execution_count": null,
   "metadata": {},
   "outputs": [],
   "source": [
    "tprs = np.array(tprs)\n",
    "fprs = np.array(fprs)\n",
    "\n",
    "tprs2 = np.array(tprs2)\n",
    "fprs2 = np.array(fprs2)"
   ]
  },
  {
   "cell_type": "code",
   "execution_count": null,
   "metadata": {},
   "outputs": [],
   "source": [
    "plt.plot(tpr_DD0,1./fpr_DD0,label=\"Double DisCo 1\")\n",
    "plt.plot(tpr_DD1,1./fpr_DD1,label=\"Double DisCo 2\")\n",
    "plt.plot(tpr_D,1./fpr_D,label=\"DisCo 1\")\n",
    "plt.plot(tpr_M,1./fpr_M,label=\"Mass\")\n",
    "plt.plot(tpr_DD0,1./tpr_DD0,label=\"Random\")\n",
    "plt.scatter(tprs,1./fprs,label=\"ABCD DD\")\n",
    "plt.scatter(tprs2,1./fprs2,label=\"ABCD SD\")\n",
    "plt.legend(frameon=False)\n",
    "plt.yscale(\"log\")\n",
    "plt.xlabel(\"True Positive\")\n",
    "plt.ylabel(\"1 / False Positive\")"
   ]
  },
  {
   "cell_type": "code",
   "execution_count": null,
   "metadata": {},
   "outputs": [],
   "source": [
    "#Make a David-style plot that shows the a distribution of R10?"
   ]
  },
  {
   "cell_type": "code",
   "execution_count": null,
   "metadata": {},
   "outputs": [],
   "source": [
    "print(DisCo_np(preds_DD[Y_val==0][:,0][0:10000],preds_DD[Y_val==0][:,1][0:10000]))\n",
    "print(DisCo_np(X_val[Y_val==0][:,0][0:10000],preds_D[Y_val==0][0:10000]))\n",
    "print(DisCo_np(preds_M[Y_val==0][:,0][0:10000],preds_D[Y_val==0][0:10000]))"
   ]
  },
  {
   "cell_type": "code",
   "execution_count": null,
   "metadata": {},
   "outputs": [],
   "source": [
    "plt.scatter(ABCD_S,ABCD_closure,label=\"DoubleDisCo\")\n",
    "plt.scatter(ABCD2_S,ABCD2_closure,label=\"DisCo\")\n",
    "plt.xlabel(\"Signal Efficiency\")\n",
    "plt.ylabel(\"ABCD Closure\")\n",
    "plt.ylim(0,2)\n",
    "plt.legend(frameon=False)"
   ]
  },
  {
   "cell_type": "code",
   "execution_count": null,
   "metadata": {},
   "outputs": [],
   "source": [
    "#Let's try again, now where we scan over fixed signal efficiencies."
   ]
  },
  {
   "cell_type": "code",
   "execution_count": null,
   "metadata": {},
   "outputs": [],
   "source": [
    "sigeffics = [0.05,0.1,0.15,0.2,0.25,0.3,0.35,0.4,0.45,0.5,0.55,0.6,0.65,0.7,0.75,0.8,0.75,0.8,0.85,0.9,0.95]\n",
    "myepsilon = 0.001\n",
    "\n",
    "eps_s = {}\n",
    "eps_b = {}\n",
    "closure = {}\n",
    "contamination = {}\n",
    "\n",
    "Seps_s = {}\n",
    "Seps_b = {}\n",
    "Sclosure = {}\n",
    "Scontamination = {}\n",
    "\n",
    "for sigeffic in sigeffics:\n",
    "\n",
    "    eps_s[sigeffic] = []\n",
    "    eps_b[sigeffic] = []\n",
    "    closure[sigeffic] = []\n",
    "    contamination[sigeffic] = []\n",
    "\n",
    "    Seps_s[sigeffic] = []\n",
    "    Seps_b[sigeffic] = []\n",
    "    Sclosure[sigeffic] = []\n",
    "    Scontamination[sigeffic] = []\n",
    "\n",
    "    mycounter = 0\n",
    "    for myeffics in np.linspace(sigeffic,0.99,100):\n",
    "        mycounter+=1\n",
    "        if (mycounter%10==0):\n",
    "            print(mycounter)\n",
    "            pass\n",
    "        cut1 = np.quantile(preds_DD[Y_val==1][:,1],1.-myeffics)\n",
    "        cut2 = np.quantile(preds_DD[(Y_val==1) & (preds_DD[:,1] > cut1)][:,0],1.-sigeffic/myeffics)\n",
    "        num = len(preds_DD[(Y_val==1) & (preds_DD[:,1] > cut1) & (preds_DD[:,0] > cut2)])\n",
    "        den = len(preds_DD[(Y_val==1)])\n",
    "\n",
    "        numB = len(preds_DD[(Y_val==0) & (preds_DD[:,1] > cut1) & (preds_DD[:,0] > cut2)])\n",
    "        denB = len(preds_DD[(Y_val==0)])    \n",
    "\n",
    "        A = myepsilon+len(preds_DD[(Y_val==0) & (preds_DD[:,1] > cut1) & (preds_DD[:,0] < cut2)])\n",
    "        B = myepsilon+len(preds_DD[(Y_val==0) & (preds_DD[:,1] > cut1) & (preds_DD[:,0] > cut2)])\n",
    "        C = myepsilon+len(preds_DD[(Y_val==0) & (preds_DD[:,1] < cut1) & (preds_DD[:,0] < cut2)])\n",
    "        D = myepsilon+len(preds_DD[(Y_val==0) & (preds_DD[:,1] < cut1) & (preds_DD[:,0] > cut2)])\n",
    "\n",
    "        As = myepsilon+len(preds_DD[(Y_val==1) & (preds_DD[:,1] > cut1) & (preds_DD[:,0] < cut2)])\n",
    "        Bs = myepsilon+len(preds_DD[(Y_val==1) & (preds_DD[:,1] > cut1) & (preds_DD[:,0] > cut2)])\n",
    "        Cs = myepsilon+len(preds_DD[(Y_val==1) & (preds_DD[:,1] < cut1) & (preds_DD[:,0] < cut2)])\n",
    "        Ds = myepsilon+len(preds_DD[(Y_val==1) & (preds_DD[:,1] < cut1) & (preds_DD[:,0] > cut2)])    \n",
    "\n",
    "        eps_s[sigeffic] += [num/den]\n",
    "        eps_b[sigeffic] += [numB/denB]\n",
    "        closure[sigeffic] += [(D*A/C)/B]\n",
    "        contamination[sigeffic] += [(B/Bs) * ((As/A) + (Ds/D) - (Cs/C))]\n",
    "\n",
    "        #Single DisCo\n",
    "\n",
    "        cut1 = np.quantile(preds_D[Y_val==1][:,0],1.-myeffics)\n",
    "        cut2 = np.quantile(preds_M[(Y_val==1) & (preds_D[:,0] > cut1)][:,0],1.-sigeffic/myeffics)\n",
    "        num = len(preds_DD[(Y_val==1) & (preds_D[:,0] > cut1) & (preds_M[:,0] > cut2)])\n",
    "        den = len(preds_DD[(Y_val==1)])\n",
    "\n",
    "        numB = len(preds_DD[(Y_val==0) & (preds_D[:,0] > cut1) & (preds_M[:,0] > cut2)])\n",
    "        denB = len(preds_DD[(Y_val==0)])    \n",
    "\n",
    "        A = myepsilon+len(preds_DD[(Y_val==0) & (preds_D[:,0] > cut1) & (preds_M[:,0] < cut2)])\n",
    "        B = myepsilon+len(preds_DD[(Y_val==0) & (preds_D[:,0] > cut1) & (preds_M[:,0] > cut2)])\n",
    "        C = myepsilon+len(preds_DD[(Y_val==0) & (preds_D[:,0] < cut1) & (preds_M[:,0] < cut2)])\n",
    "        D = myepsilon+len(preds_DD[(Y_val==0) & (preds_D[:,0] < cut1) & (preds_M[:,0] > cut2)])\n",
    "\n",
    "        As = myepsilon+len(preds_DD[(Y_val==1) & (preds_D[:,0] > cut1) & (preds_M[:,0] < cut2)])\n",
    "        Bs = myepsilon+len(preds_DD[(Y_val==1) & (preds_D[:,0] > cut1) & (preds_M[:,0] > cut2)])\n",
    "        Cs = myepsilon+len(preds_DD[(Y_val==1) & (preds_D[:,0] < cut1) & (preds_M[:,0] < cut2)])\n",
    "        Ds = myepsilon+len(preds_DD[(Y_val==1) & (preds_D[:,0] < cut1) & (preds_M[:,0] > cut2)])    \n",
    "\n",
    "        Seps_s[sigeffic] += [num/den]\n",
    "        Seps_b[sigeffic] += [numB/denB]\n",
    "        Sclosure[sigeffic] += [(D*A/C)/B]\n",
    "        Scontamination[sigeffic] += [(B/Bs) * ((As/A) + (Ds/D) - (Cs/C))]    \n",
    "\n",
    "        #print(myeffics,num/den)\n",
    "    eps_s[sigeffic] = np.array(eps_s[sigeffic])\n",
    "    eps_b[sigeffic] = np.array(eps_b[sigeffic])\n",
    "    closure[sigeffic] = np.array(closure[sigeffic])\n",
    "    contamination[sigeffic] = np.array(contamination[sigeffic])\n",
    "\n",
    "    Seps_s[sigeffic] = np.array(Seps_s[sigeffic])\n",
    "    Seps_b[sigeffic] = np.array(Seps_b[sigeffic])\n",
    "    Sclosure[sigeffic] = np.array(Sclosure[sigeffic])\n",
    "    Scontamination[sigeffic] = np.array(Scontamination[sigeffic])\n",
    "    pass"
   ]
  },
  {
   "cell_type": "code",
   "execution_count": null,
   "metadata": {},
   "outputs": [],
   "source": [
    "mycolor = {}\n",
    "mycolor[0.1] = 'red'\n",
    "mycolor[0.3] = 'green'\n",
    "mycolor[0.5] = 'blue'\n",
    "\n",
    "fig = plt.figure(figsize=(8, 6))\n",
    "gs = gridspec.GridSpec(1, 1) \n",
    "ax0 = plt.subplot(gs[0])\n",
    "ax0.yaxis.set_ticks_position('both')\n",
    "ax0.xaxis.set_ticks_position('both')\n",
    "ax0.tick_params(direction=\"in\",which=\"both\")\n",
    "plt.xticks(fontsize=20)\n",
    "plt.yticks(fontsize=20)\n",
    "ax0.minorticks_on()\n",
    "\n",
    "for r in [0.1,0.3,0.5]:\n",
    "    xx = contamination[r][abs(closure[r]-1.) < 0.1]\n",
    "    yy = 1./eps_b[r][abs(closure[r]-1.) < 0.1]\n",
    "\n",
    "    xx2 = Scontamination[r][abs(Sclosure[r]-1.) < 0.1]\n",
    "    yy2 = 1./Seps_b[r][abs(Sclosure[r]-1.) < 0.1]\n",
    "\n",
    "    plt.plot(xx,yy,marker='^',ls=\"none\",label=r\"Double DisCo, $\\epsilon_{sig}=$\"+str(r),color=mycolor[r])\n",
    "    plt.plot(xx2,yy2,marker='v',ls=\"none\",label=\"Single DisCo, $\\epsilon_{sig}=$\"+str(r),color=mycolor[r])\n",
    "\n",
    "plt.xlabel(\"Signal Contamination\",fontsize=20)\n",
    "plt.ylabel(\"Background Rejection\",fontsize=20)\n",
    "plt.locator_params(axis='x', nbins=6)\n",
    "plt.legend(frameon=False,fontsize=12)\n",
    "plt.yscale(\"log\")\n",
    "\n",
    "from matplotlib.lines import Line2D\n",
    "legend_elements = [Line2D([0], [0], color='black', lw=0, marker=\"^\",label=r'Double DisCo'),\n",
    "                   Line2D([0], [0], color='black', lw=0, marker=\"v\",label=r'Single DisCo')]\n",
    "l1 = ax0.legend(frameon=False,fontsize=20,handles=legend_elements, loc='upper right')\n",
    "plt.gca().add_artist(l1)\n",
    "\n",
    "legend_elements = [Line2D([0], [0], color='red', lw=0, marker=\"s\",label=r'$\\epsilon_{sig} = 10%$'),\n",
    "                   Line2D([0], [0], color='green', lw=0, marker=\"s\",label=r'$\\epsilon_{sig} = 30%$'),\n",
    "                   Line2D([0], [0], color='blue', lw=0, marker=\"s\",label=r'$\\epsilon_{sig} = 50%$')]\n",
    "ax0.legend(frameon=False,fontsize=20,handles=legend_elements, loc='upper center',bbox_to_anchor=(0.3,0.95))\n",
    "#plt.savefig(\"ToyNN_signal_contamination.pdf\",bbox_inches='tight')"
   ]
  },
  {
   "cell_type": "code",
   "execution_count": null,
   "metadata": {},
   "outputs": [],
   "source": [
    "#ROC curve\n",
    "\n",
    "sigeffics = [0.05,0.1,0.15,0.2,0.25,0.3,0.35,0.4,0.45,0.5,0.55,0.6,0.65,0.7,0.75,0.8,0.75,0.8,0.85,0.9,0.95]\n",
    "xx = []\n",
    "yy = []\n",
    "\n",
    "xx2 = []\n",
    "yy2 = []\n",
    "\n",
    "for r in sigeffics:\n",
    "    xx_hold = eps_s[r][abs(closure[r]-1.) < 0.1]\n",
    "    yy_hold = eps_b[r][abs(closure[r]-1.) < 0.1]\n",
    "    whichmax = np.argmin(yy_hold)\n",
    "    xx+=[xx_hold[whichmax]]\n",
    "    yy+=[yy_hold[whichmax]]\n",
    "    \n",
    "    xx_hold = Seps_s[r][abs(Sclosure[r]-1.) < 0.1]\n",
    "    yy_hold = Seps_b[r][abs(Sclosure[r]-1.) < 0.1]\n",
    "    whichmax = np.argmin(yy_hold)\n",
    "    xx2+=[xx_hold[whichmax]]\n",
    "    yy2+=[yy_hold[whichmax]]    \n",
    "    pass\n",
    "xx = np.array(xx)\n",
    "yy = np.array(yy)\n",
    "\n",
    "xx2 = np.array(xx2)\n",
    "yy2 = np.array(yy2)"
   ]
  },
  {
   "cell_type": "code",
   "execution_count": null,
   "metadata": {},
   "outputs": [],
   "source": [
    "fig = plt.figure(figsize=(8, 6))\n",
    "gs = gridspec.GridSpec(1, 1) \n",
    "ax0 = plt.subplot(gs[0])\n",
    "ax0.yaxis.set_ticks_position('both')\n",
    "ax0.xaxis.set_ticks_position('both')\n",
    "ax0.tick_params(direction=\"in\",which=\"both\")\n",
    "plt.xticks(fontsize=20)\n",
    "plt.yticks(fontsize=20)\n",
    "ax0.minorticks_on()\n",
    "\n",
    "plt.plot(tpr_DD0,1./fpr_DD0,label=\"Double DisCo f(X,Y,Z)\")\n",
    "plt.plot(tpr_DD1,1./fpr_DD1,label=\"Double DisCo g(X,Y,Z)\")\n",
    "plt.plot(tpr_D,1./fpr_D,label=\"Single Disco f(Y,Z)\")\n",
    "plt.plot(tpr_M,1./fpr_M,label=\"X only\")\n",
    "#plt.scatter(tprs,1./fprs,label=\"ABCD DD\")\n",
    "#plt.scatter(tprs2,1./fprs2,label=\"ABCD SD\")\n",
    "plt.plot(xx,1./yy,ls=\":\",label=\"ABCD Double DisCo\",linewidth=3)\n",
    "plt.plot(xx2,1./yy2,ls=\"--\",label=\"ABCD Single DisCo\",linewidth=3)\n",
    "plt.plot(tpr_DD0,1./tpr_DD0,label=\"Random\",color='gray',alpha=0.5)\n",
    "plt.legend(frameon=False,fontsize=15)\n",
    "plt.yscale(\"log\")\n",
    "plt.xlabel(\"Signal Efficiency\",fontsize=20)\n",
    "plt.ylabel(\"Background Rejection\",fontsize=20)\n",
    "#plt.savefig(\"ToyNN_ROC.pdf\",bbox_inches='tight')"
   ]
  }
 ],
 "metadata": {
  "kernelspec": {
   "display_name": "Python 3",
   "language": "python",
   "name": "python3"
  },
  "language_info": {
   "codemirror_mode": {
    "name": "ipython",
    "version": 3
   },
   "file_extension": ".py",
   "mimetype": "text/x-python",
   "name": "python",
   "nbconvert_exporter": "python",
   "pygments_lexer": "ipython3",
   "version": "3.6.9"
  }
 },
 "nbformat": 4,
 "nbformat_minor": 2
}
